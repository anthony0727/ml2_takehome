{
  "nbformat": 4,
  "nbformat_minor": 0,
  "metadata": {
    "kernelspec": {
      "display_name": "Python 3",
      "language": "python",
      "name": "python3"
    },
    "language_info": {
      "codemirror_mode": {
        "name": "ipython",
        "version": 3
      },
      "file_extension": ".py",
      "mimetype": "text/x-python",
      "name": "python",
      "nbconvert_exporter": "python",
      "pygments_lexer": "ipython3",
      "version": "3.6.8"
    },
    "colab": {
      "name": "lenet5_benchmark.ipynb",
      "provenance": [],
      "include_colab_link": true
    }
  },
  "cells": [
    {
      "cell_type": "markdown",
      "metadata": {
        "id": "view-in-github",
        "colab_type": "text"
      },
      "source": [
        "<a href=\"https://colab.research.google.com/github/anthony0727/ml2_takehome/blob/master/notebook/lenet5_benchmark.ipynb\" target=\"_parent\"><img src=\"https://colab.research.google.com/assets/colab-badge.svg\" alt=\"Open In Colab\"/></a>"
      ]
    },
    {
      "cell_type": "code",
      "metadata": {
        "id": "wkz1gHndg-JX",
        "colab_type": "code",
        "colab": {},
        "outputId": "ac11155f-9087-45a6-b8a4-e08e82fa7c49"
      },
      "source": [
        "#!apt-get install apache2-utils"
      ],
      "execution_count": null,
      "outputs": [
        {
          "output_type": "stream",
          "text": [
            "[sudo] password for anthony: \n",
            "[sudo] password for anthony: "
          ],
          "name": "stdout"
        }
      ]
    },
    {
      "cell_type": "code",
      "metadata": {
        "id": "KCi1Bzung-Jb",
        "colab_type": "code",
        "colab": {}
      },
      "source": [
        "import requests\n",
        "import matplotlib.pyplot as plt\n",
        "from pprint import PrettyPrinter\n",
        "import json\n",
        "import numpy as np\n",
        "pp = PrettyPrinter()"
      ],
      "execution_count": null,
      "outputs": []
    },
    {
      "cell_type": "markdown",
      "metadata": {
        "id": "P9NSpqsbg-Je",
        "colab_type": "text"
      },
      "source": [
        "### load data"
      ]
    },
    {
      "cell_type": "code",
      "metadata": {
        "id": "A3gIeyfug-Jf",
        "colab_type": "code",
        "colab": {}
      },
      "source": [
        "from tensorflow.keras.datasets.mnist import load_data\n",
        "\n",
        "(train_x, train_y), (test_x, test_y) = load_data()"
      ],
      "execution_count": null,
      "outputs": []
    },
    {
      "cell_type": "markdown",
      "metadata": {
        "id": "DX_4-OCTg-Jh",
        "colab_type": "text"
      },
      "source": [
        "### tensorflow/serving"
      ]
    },
    {
      "cell_type": "code",
      "metadata": {
        "id": "_JF_roWgg-Ji",
        "colab_type": "code",
        "colab": {}
      },
      "source": [
        "sample = test_x[:1]"
      ],
      "execution_count": null,
      "outputs": []
    },
    {
      "cell_type": "code",
      "metadata": {
        "id": "jXWsmk_zg-Jk",
        "colab_type": "code",
        "colab": {},
        "outputId": "d97db946-3564-4136-a76b-08791f18fbc2"
      },
      "source": [
        "plt.imshow(sample[0])"
      ],
      "execution_count": null,
      "outputs": [
        {
          "output_type": "execute_result",
          "data": {
            "text/plain": [
              "<matplotlib.image.AxesImage at 0x7f42f9e89198>"
            ]
          },
          "metadata": {
            "tags": []
          },
          "execution_count": 42
        },
        {
          "output_type": "display_data",
          "data": {
            "image/png": "[encoded data removed]",
            "text/plain": [
              "<Figure size 432x288 with 1 Axes>"
            ]
          },
          "metadata": {
            "tags": [],
            "needs_background": "light"
          }
        }
      ]
    },
    {
      "cell_type": "code",
      "metadata": {
        "id": "gcTjggCMg-Jm",
        "colab_type": "code",
        "colab": {}
      },
      "source": [
        "data = json.dumps({\"signature_name\": \"serving_default\", \"instances\": np.expand_dims(sample, axis=-1).tolist()})"
      ],
      "execution_count": null,
      "outputs": []
    },
    {
      "cell_type": "code",
      "metadata": {
        "id": "gu0J3OEXg-Jp",
        "colab_type": "code",
        "colab": {}
      },
      "source": [
        "res = json.loads(requests.post('http://ec2-3-35-42-27.ap-northeast-2.compute.amazonaws.com:8501/v1/models/lenet5:predict', data=data).text)"
      ],
      "execution_count": null,
      "outputs": []
    },
    {
      "cell_type": "code",
      "metadata": {
        "id": "wBsFfiW4g-Js",
        "colab_type": "code",
        "colab": {}
      },
      "source": [
        "predictions = res['predictions']"
      ],
      "execution_count": null,
      "outputs": []
    },
    {
      "cell_type": "code",
      "metadata": {
        "id": "bZ2mWeKVg-Ju",
        "colab_type": "code",
        "colab": {},
        "outputId": "8925565d-d563-48b0-a2e3-71f565847b72"
      },
      "source": [
        "np.argmax(predictions)"
      ],
      "execution_count": null,
      "outputs": [
        {
          "output_type": "execute_result",
          "data": {
            "text/plain": [
              "7"
            ]
          },
          "metadata": {
            "tags": []
          },
          "execution_count": 47
        }
      ]
    },
    {
      "cell_type": "markdown",
      "metadata": {
        "id": "7WMCxr9Ag-Jx",
        "colab_type": "text"
      },
      "source": [
        "### benchmark\n",
        "\n",
        "n requests\n",
        "\n",
        "c concurrency"
      ]
    },
    {
      "cell_type": "code",
      "metadata": {
        "id": "tG0hYzREg-Jx",
        "colab_type": "code",
        "colab": {},
        "outputId": "88e6daaf-de8b-4653-b390-e681897327d7"
      },
      "source": [
        "!ab -k -l -n 10000 -c 1000 -T \"image/ong\" -p test_data/0.png http://ec2-3-35-42-27.ap-northeast-2.compute.amazonaws.com:8501/v1/models/lenet5:predict"
      ],
      "execution_count": null,
      "outputs": [
        {
          "output_type": "stream",
          "text": [
            "This is ApacheBench, Version 2.3 <$Revision: 1843412 $>\n",
            "Copyright 1996 Adam Twiss, Zeus Technology Ltd, http://www.zeustech.net/\n",
            "Licensed to The Apache Software Foundation, http://www.apache.org/\n",
            "\n",
            "Benchmarking ec2-3-35-42-27.ap-northeast-2.compute.amazonaws.com (be patient)\n",
            "Completed 1000 requests\n",
            "Completed 2000 requests\n",
            "Completed 3000 requests\n",
            "Completed 4000 requests\n",
            "Completed 5000 requests\n",
            "Completed 6000 requests\n",
            "Completed 7000 requests\n",
            "Completed 8000 requests\n",
            "Completed 9000 requests\n",
            "Completed 10000 requests\n",
            "Finished 10000 requests\n",
            "\n",
            "\n",
            "Server Software:        \n",
            "Server Hostname:        ec2-3-35-42-27.ap-northeast-2.compute.amazonaws.com\n",
            "Server Port:            8501\n",
            "\n",
            "Document Path:          /v1/models/lenet5:predict\n",
            "Document Length:        Variable\n",
            "\n",
            "Concurrency Level:      1000\n",
            "Time taken for tests:   1.060 seconds\n",
            "Complete requests:      10000\n",
            "Failed requests:        0\n",
            "Non-2xx responses:      10000\n",
            "Keep-Alive requests:    10000\n",
            "Total transferred:      1680000 bytes\n",
            "Total body sent:        4910000\n",
            "HTML transferred:       640000 bytes\n",
            "Requests per second:    9435.68 [#/sec] (mean)\n",
            "Time per request:       105.981 [ms] (mean)\n",
            "Time per request:       0.106 [ms] (mean, across all concurrent requests)\n",
            "Transfer rate:          1548.04 [Kbytes/sec] received\n",
            "                        4524.33 kb/s sent\n",
            "                        6072.38 kb/s total\n",
            "\n",
            "Connection Times (ms)\n",
            "              min  mean[+/-sd] median   max\n",
            "Connect:        0   15  44.7      0     171\n",
            "Processing:     2   66 132.5     35     721\n",
            "Waiting:        2   66 132.5     35     721\n",
            "Total:          2   80 166.9     35     859\n",
            "\n",
            "Percentage of the requests served within a certain time (ms)\n",
            "  50%     35\n",
            "  66%     41\n",
            "  75%     55\n",
            "  80%     58\n",
            "  90%    252\n",
            "  95%    602\n",
            "  98%    763\n",
            "  99%    794\n",
            " 100%    859 (longest request)\n"
          ],
          "name": "stdout"
        }
      ]
    },
    {
      "cell_type": "markdown",
      "metadata": {
        "id": "R51gicWbg-Jz",
        "colab_type": "text"
      },
      "source": [
        "### pytorch/torchserve"
      ]
    },
    {
      "cell_type": "code",
      "metadata": {
        "id": "26dW2WGMg-J0",
        "colab_type": "code",
        "colab": {}
      },
      "source": [
        "res = requests.get('http://ec2-3-35-42-27.ap-northeast-2.compute.amazonaws.com:8082/models/lenet5')"
      ],
      "execution_count": null,
      "outputs": []
    },
    {
      "cell_type": "code",
      "metadata": {
        "scrolled": true,
        "id": "YzFm5so8g-J2",
        "colab_type": "code",
        "colab": {},
        "outputId": "54b3217f-ede5-4823-a28f-4f3a19621f55"
      },
      "source": [
        "json.loads(res.text)"
      ],
      "execution_count": null,
      "outputs": [
        {
          "output_type": "execute_result",
          "data": {
            "text/plain": [
              "[{'modelName': 'lenet5',\n",
              "  'modelVersion': '1.0',\n",
              "  'modelUrl': 'lenet5.mar',\n",
              "  'runtime': 'python',\n",
              "  'minWorkers': 8,\n",
              "  'maxWorkers': 8,\n",
              "  'batchSize': 1,\n",
              "  'maxBatchDelay': 100,\n",
              "  'loadedAtStartup': True,\n",
              "  'workers': [{'id': '9000',\n",
              "    'startTime': '2020-09-07T15:42:23.017Z',\n",
              "    'status': 'READY',\n",
              "    'gpu': False,\n",
              "    'memoryUsage': 169103360},\n",
              "   {'id': '9001',\n",
              "    'startTime': '2020-09-07T15:42:23.019Z',\n",
              "    'status': 'READY',\n",
              "    'gpu': False,\n",
              "    'memoryUsage': 169496576},\n",
              "   {'id': '9002',\n",
              "    'startTime': '2020-09-07T15:42:23.020Z',\n",
              "    'status': 'READY',\n",
              "    'gpu': False,\n",
              "    'memoryUsage': 169328640},\n",
              "   {'id': '9003',\n",
              "    'startTime': '2020-09-07T15:42:23.020Z',\n",
              "    'status': 'READY',\n",
              "    'gpu': False,\n",
              "    'memoryUsage': 168558592},\n",
              "   {'id': '9004',\n",
              "    'startTime': '2020-09-07T15:42:23.020Z',\n",
              "    'status': 'READY',\n",
              "    'gpu': False,\n",
              "    'memoryUsage': 169418752},\n",
              "   {'id': '9005',\n",
              "    'startTime': '2020-09-07T15:42:23.020Z',\n",
              "    'status': 'READY',\n",
              "    'gpu': False,\n",
              "    'memoryUsage': 168857600},\n",
              "   {'id': '9006',\n",
              "    'startTime': '2020-09-07T15:42:23.021Z',\n",
              "    'status': 'READY',\n",
              "    'gpu': False,\n",
              "    'memoryUsage': 168951808},\n",
              "   {'id': '9007',\n",
              "    'startTime': '2020-09-07T15:42:23.021Z',\n",
              "    'status': 'READY',\n",
              "    'gpu': False,\n",
              "    'memoryUsage': 169140224}]}]"
            ]
          },
          "metadata": {
            "tags": []
          },
          "execution_count": 11
        }
      ]
    },
    {
      "cell_type": "code",
      "metadata": {
        "id": "ynAECCrzg-J4",
        "colab_type": "code",
        "colab": {},
        "outputId": "f3a1ad30-3fc0-4e9f-e1ba-d24ebe54e8be"
      },
      "source": [
        "sample = test_x[:1]"
      ],
      "execution_count": null,
      "outputs": [
        {
          "output_type": "execute_result",
          "data": {
            "text/plain": [
              "(1, 28, 28, 1)"
            ]
          },
          "metadata": {
            "tags": []
          },
          "execution_count": 88
        }
      ]
    },
    {
      "cell_type": "code",
      "metadata": {
        "id": "zwjqSl3Wg-J7",
        "colab_type": "code",
        "colab": {}
      },
      "source": [
        "res = json.loads(requests.post('http://ec2-3-35-42-27.ap-northeast-2.compute.amazonaws.com:8081/predictions/lenet5', files={'media': 'test_data/0.png'}).text)"
      ],
      "execution_count": null,
      "outputs": []
    },
    {
      "cell_type": "code",
      "metadata": {
        "id": "OCHx75kCg-J9",
        "colab_type": "code",
        "colab": {},
        "outputId": "8d8b7952-d4d8-403f-849e-8ed0e7769b93"
      },
      "source": [
        "res"
      ],
      "execution_count": null,
      "outputs": [
        {
          "output_type": "execute_result",
          "data": {
            "text/plain": [
              "{'code': 503,\n",
              " 'type': 'InternalServerException',\n",
              " 'message': 'Prediction failed'}"
            ]
          },
          "metadata": {
            "tags": []
          },
          "execution_count": 56
        }
      ]
    },
    {
      "cell_type": "code",
      "metadata": {
        "id": "mWpHxYeIg-J_",
        "colab_type": "code",
        "colab": {},
        "outputId": "1cc05a10-6a35-4eb1-d738-f0ee065710f5"
      },
      "source": [
        "!curl -X POST http://ec2-3-35-42-27.ap-northeast-2.compute.amazonaws.com:8081/predictions/lenet5 -T test_data/0.png"
      ],
      "execution_count": null,
      "outputs": [
        {
          "output_type": "stream",
          "text": [
            "{\r\n",
            "  \"code\": 503,\r\n",
            "  \"type\": \"InternalServerException\",\r\n",
            "  \"message\": \"Prediction failed\"\r\n",
            "}\r\n"
          ],
          "name": "stdout"
        }
      ]
    },
    {
      "cell_type": "code",
      "metadata": {
        "id": "KWumfszfg-KB",
        "colab_type": "code",
        "colab": {}
      },
      "source": [
        ""
      ],
      "execution_count": null,
      "outputs": []
    }
  ]
}