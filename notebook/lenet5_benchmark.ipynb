{
  "nbformat": 4,
  "nbformat_minor": 0,
  "metadata": {
    "kernelspec": {
      "display_name": "Python 3",
      "language": "python",
      "name": "python3"
    },
    "language_info": {
      "codemirror_mode": {
        "name": "ipython",
        "version": 3
      },
      "file_extension": ".py",
      "mimetype": "text/x-python",
      "name": "python",
      "nbconvert_exporter": "python",
      "pygments_lexer": "ipython3",
      "version": "3.6.8"
    },
    "colab": {
      "name": "lenet5_benchmark.ipynb",
      "provenance": [],
      "collapsed_sections": [
        "5rgmK2kPaqgd",
        "WXjuroZGZTsu"
      ],
      "toc_visible": true,
      "include_colab_link": true
    }
  },
  "cells": [
    {
      "cell_type": "markdown",
      "metadata": {
        "id": "view-in-github",
        "colab_type": "text"
      },
      "source": [
        "<a href=\"https://colab.research.google.com/github/anthony0727/ml2_takehome/blob/master/notebook/lenet5_benchmark.ipynb\" target=\"_parent\"><img src=\"https://colab.research.google.com/assets/colab-badge.svg\" alt=\"Open In Colab\"/></a>"
      ]
    },
    {
      "cell_type": "markdown",
      "metadata": {
        "id": "5rgmK2kPaqgd",
        "colab_type": "text"
      },
      "source": [
        "## install apache bench"
      ]
    },
    {
      "cell_type": "code",
      "metadata": {
        "id": "DtHQxQRCMyQU",
        "colab_type": "code",
        "colab": {
          "base_uri": "https://localhost:8080/",
          "height": 595
        },
        "outputId": "bb515d27-68f5-43a8-f774-9a3b9ca2403c"
      },
      "source": [
        "!apt-get install apache2-utils"
      ],
      "execution_count": null,
      "outputs": [
        {
          "output_type": "stream",
          "text": [
            "Reading package lists... Done\n",
            "Building dependency tree       \n",
            "Reading state information... Done\n",
            "The following package was automatically installed and is no longer required:\n",
            "  libnvidia-common-440\n",
            "Use 'apt autoremove' to remove it.\n",
            "The following additional packages will be installed:\n",
            "  libapr1 libaprutil1\n",
            "The following NEW packages will be installed:\n",
            "  apache2-utils libapr1 libaprutil1\n",
            "0 upgraded, 3 newly installed, 0 to remove and 39 not upgraded.\n",
            "Need to get 259 kB of archives.\n",
            "After this operation, 866 kB of additional disk space will be used.\n",
            "Get:1 http://archive.ubuntu.com/ubuntu bionic/main amd64 libapr1 amd64 1.6.3-2 [90.9 kB]\n",
            "Get:2 http://archive.ubuntu.com/ubuntu bionic/main amd64 libaprutil1 amd64 1.6.1-2 [84.4 kB]\n",
            "Get:3 http://archive.ubuntu.com/ubuntu bionic-updates/main amd64 apache2-utils amd64 2.4.29-1ubuntu4.14 [83.9 kB]\n",
            "Fetched 259 kB in 1s (398 kB/s)\n",
            "Selecting previously unselected package libapr1:amd64.\n",
            "(Reading database ... 144579 files and directories currently installed.)\n",
            "Preparing to unpack .../libapr1_1.6.3-2_amd64.deb ...\n",
            "Unpacking libapr1:amd64 (1.6.3-2) ...\n",
            "Selecting previously unselected package libaprutil1:amd64.\n",
            "Preparing to unpack .../libaprutil1_1.6.1-2_amd64.deb ...\n",
            "Unpacking libaprutil1:amd64 (1.6.1-2) ...\n",
            "Selecting previously unselected package apache2-utils.\n",
            "Preparing to unpack .../apache2-utils_2.4.29-1ubuntu4.14_amd64.deb ...\n",
            "Unpacking apache2-utils (2.4.29-1ubuntu4.14) ...\n",
            "Setting up libapr1:amd64 (1.6.3-2) ...\n",
            "Setting up libaprutil1:amd64 (1.6.1-2) ...\n",
            "Setting up apache2-utils (2.4.29-1ubuntu4.14) ...\n",
            "Processing triggers for man-db (2.8.3-2ubuntu0.1) ...\n",
            "Processing triggers for libc-bin (2.27-3ubuntu1) ...\n",
            "/sbin/ldconfig.real: /usr/local/lib/python3.6/dist-packages/ideep4py/lib/libmkldnn.so.0 is not a symbolic link\n",
            "\n"
          ],
          "name": "stdout"
        }
      ]
    },
    {
      "cell_type": "markdown",
      "metadata": {
        "id": "WXjuroZGZTsu",
        "colab_type": "text"
      },
      "source": [
        "## load package"
      ]
    },
    {
      "cell_type": "code",
      "metadata": {
        "id": "nik5Z9M8MyQY",
        "colab_type": "code",
        "colab": {}
      },
      "source": [
        "from PIL import Image\n",
        "import requests\n",
        "import json\n",
        "\n",
        "import numpy as np\n",
        "import matplotlib.pyplot as plt\n",
        "\n",
        "from tensorflow.keras.datasets.mnist import load_data\n",
        "\n",
        "from pprint import PrettyPrinter\n",
        "pp = PrettyPrinter()"
      ],
      "execution_count": null,
      "outputs": []
    },
    {
      "cell_type": "markdown",
      "metadata": {
        "id": "T5-rOdZ1Zh3B",
        "colab_type": "text"
      },
      "source": [
        "## sample data"
      ]
    },
    {
      "cell_type": "code",
      "metadata": {
        "id": "cVNZg0SMZktw",
        "colab_type": "code",
        "colab": {}
      },
      "source": [
        "(train_x, train_y), (test_x, test_y) = load_data()"
      ],
      "execution_count": null,
      "outputs": []
    },
    {
      "cell_type": "code",
      "metadata": {
        "id": "H3df97Y7MyQd",
        "colab_type": "code",
        "colab": {
          "base_uri": "https://localhost:8080/",
          "height": 34
        },
        "outputId": "db16a24b-e121-4278-ebcf-46e3dee862cc"
      },
      "source": [
        "# sample 5 imgs\n",
        "\n",
        "sample = train_x[5:10]\n",
        "sample.shape"
      ],
      "execution_count": null,
      "outputs": [
        {
          "output_type": "execute_result",
          "data": {
            "text/plain": [
              "(5, 28, 28)"
            ]
          },
          "metadata": {
            "tags": []
          },
          "execution_count": 56
        }
      ]
    },
    {
      "cell_type": "code",
      "metadata": {
        "id": "sIZKm9gLbjt4",
        "colab_type": "code",
        "colab": {}
      },
      "source": [
        "img = Image.fromarray(sample[0])\n",
        "img.save('2.png')\n",
        "\n",
        "img = Image.fromarray(sample[1])\n",
        "img.save('1.png')\n",
        "\n",
        "img = Image.fromarray(sample[2])\n",
        "img.save('3.png')"
      ],
      "execution_count": null,
      "outputs": []
    },
    {
      "cell_type": "code",
      "metadata": {
        "id": "3HxQKy4hNWj9",
        "colab_type": "code",
        "colab": {}
      },
      "source": [
        "url = 'http://ec2-15-165-35-168.ap-northeast-2.compute.amazonaws.com'"
      ],
      "execution_count": null,
      "outputs": []
    },
    {
      "cell_type": "markdown",
      "metadata": {
        "id": "MqE_GnIuMyQk",
        "colab_type": "text"
      },
      "source": [
        "## tensorflow/serving"
      ]
    },
    {
      "cell_type": "markdown",
      "metadata": {
        "id": "XFowI38TbCfD",
        "colab_type": "text"
      },
      "source": [
        "### sample request"
      ]
    },
    {
      "cell_type": "code",
      "metadata": {
        "id": "uFfZcRKLMyQl",
        "colab_type": "code",
        "colab": {}
      },
      "source": [
        "data = json.dumps({\"signature_name\": \"serving_default\", \"instances\": np.expand_dims(sample, axis=-1).tolist()})"
      ],
      "execution_count": null,
      "outputs": []
    },
    {
      "cell_type": "code",
      "metadata": {
        "id": "XZ9zsyq3MyQn",
        "colab_type": "code",
        "colab": {}
      },
      "source": [
        "res = requests.post(url+':8501/v1/models/lenet5:predict', data=data)\n",
        "res = json.loads(res.text)"
      ],
      "execution_count": null,
      "outputs": []
    },
    {
      "cell_type": "code",
      "metadata": {
        "id": "dkz_2xpEMyQq",
        "colab_type": "code",
        "colab": {}
      },
      "source": [
        "predictions = res['predictions']"
      ],
      "execution_count": null,
      "outputs": []
    },
    {
      "cell_type": "code",
      "metadata": {
        "id": "lZIauCsSMyQs",
        "colab_type": "code",
        "colab": {
          "base_uri": "https://localhost:8080/",
          "height": 282
        },
        "outputId": "cf9c9c3d-3915-4d7d-a3c2-65bbbed16990"
      },
      "source": [
        "# true value\n",
        "plt.imshow(sample[0])"
      ],
      "execution_count": null,
      "outputs": [
        {
          "output_type": "execute_result",
          "data": {
            "text/plain": [
              "<matplotlib.image.AxesImage at 0x7f106f6b0f60>"
            ]
          },
          "metadata": {
            "tags": []
          },
          "execution_count": 63
        },
        {
          "output_type": "display_data",
          "data": {
            "image/png": "[encoded data removed]",
            "text/plain": [
              "<Figure size 432x288 with 1 Axes>"
            ]
          },
          "metadata": {
            "tags": [],
            "needs_background": "light"
          }
        }
      ]
    },
    {
      "cell_type": "code",
      "metadata": {
        "id": "q2yEc7pDMyQu",
        "colab_type": "code",
        "colab": {
          "base_uri": "https://localhost:8080/",
          "height": 34
        },
        "outputId": "ec3a331b-aa06-453b-e0bf-3a76f0fccfd7"
      },
      "source": [
        "# prediction\n",
        "np.argmax(predictions[0])"
      ],
      "execution_count": null,
      "outputs": [
        {
          "output_type": "execute_result",
          "data": {
            "text/plain": [
              "2"
            ]
          },
          "metadata": {
            "tags": []
          },
          "execution_count": 64
        }
      ]
    },
    {
      "cell_type": "code",
      "metadata": {
        "id": "L8vRgmGDMyQx",
        "colab_type": "code",
        "colab": {
          "base_uri": "https://localhost:8080/",
          "height": 282
        },
        "outputId": "ff8de969-c68f-4695-880d-b473527c22f2"
      },
      "source": [
        "# true value\n",
        "plt.imshow(sample[1])"
      ],
      "execution_count": null,
      "outputs": [
        {
          "output_type": "execute_result",
          "data": {
            "text/plain": [
              "<matplotlib.image.AxesImage at 0x7f106f6170f0>"
            ]
          },
          "metadata": {
            "tags": []
          },
          "execution_count": 65
        },
        {
          "output_type": "display_data",
          "data": {
            "image/png": "[encoded data removed]",
            "text/plain": [
              "<Figure size 432x288 with 1 Axes>"
            ]
          },
          "metadata": {
            "tags": [],
            "needs_background": "light"
          }
        }
      ]
    },
    {
      "cell_type": "code",
      "metadata": {
        "id": "lgrJsDZ7MyQ0",
        "colab_type": "code",
        "colab": {
          "base_uri": "https://localhost:8080/",
          "height": 34
        },
        "outputId": "13fc5bd5-3fdb-47d7-98d5-4f79941b4f0a"
      },
      "source": [
        "# prediction\n",
        "np.argmax(predictions[1])"
      ],
      "execution_count": null,
      "outputs": [
        {
          "output_type": "execute_result",
          "data": {
            "text/plain": [
              "1"
            ]
          },
          "metadata": {
            "tags": []
          },
          "execution_count": 66
        }
      ]
    },
    {
      "cell_type": "code",
      "metadata": {
        "id": "nXArw96VMyQ2",
        "colab_type": "code",
        "colab": {
          "base_uri": "https://localhost:8080/",
          "height": 282
        },
        "outputId": "115f47df-5e41-448c-974d-9a0636b6dd84"
      },
      "source": [
        "# true value\n",
        "plt.imshow(sample[2])"
      ],
      "execution_count": null,
      "outputs": [
        {
          "output_type": "execute_result",
          "data": {
            "text/plain": [
              "<matplotlib.image.AxesImage at 0x7f106f5f5240>"
            ]
          },
          "metadata": {
            "tags": []
          },
          "execution_count": 67
        },
        {
          "output_type": "display_data",
          "data": {
            "image/png": "[encoded data removed]",
            "text/plain": [
              "<Figure size 432x288 with 1 Axes>"
            ]
          },
          "metadata": {
            "tags": [],
            "needs_background": "light"
          }
        }
      ]
    },
    {
      "cell_type": "code",
      "metadata": {
        "id": "SRRtaKj3MyQ4",
        "colab_type": "code",
        "colab": {
          "base_uri": "https://localhost:8080/",
          "height": 34
        },
        "outputId": "caa5f73a-8539-4beb-b7d2-3874404f9e9d"
      },
      "source": [
        "# prediction\n",
        "np.argmax(predictions[2])"
      ],
      "execution_count": null,
      "outputs": [
        {
          "output_type": "execute_result",
          "data": {
            "text/plain": [
              "3"
            ]
          },
          "metadata": {
            "tags": []
          },
          "execution_count": 68
        }
      ]
    },
    {
      "cell_type": "markdown",
      "metadata": {
        "id": "1J5_cyK7bOOy",
        "colab_type": "text"
      },
      "source": [
        "### benchmark"
      ]
    },
    {
      "cell_type": "markdown",
      "metadata": {
        "id": "1fTq3UCW6UpW",
        "colab_type": "text"
      },
      "source": [
        "-k\n",
        "* Enable the HTTP KeepAlive feature, i.e., perform multiple requests within one HTTP session. Default is no KeepAlive.\n",
        "\n",
        "-n requests\n",
        "* Number of requests to perform for the benchmarking session. The default is to just perform a single request which usually leads to non-representative benchmarking results.\n",
        "\n",
        "-c concurrency\n",
        "* Number of multiple requests to perform at a time. Default is one request at a time.\n"
      ]
    },
    {
      "cell_type": "code",
      "metadata": {
        "id": "XwwDWMA0bQU2",
        "colab_type": "code",
        "colab": {
          "base_uri": "https://localhost:8080/",
          "height": 1000
        },
        "outputId": "4ead1747-3295-4cf5-bb37-9b33bc80803d"
      },
      "source": [
        "!ab -k -l -n 1000 -c 10 -T \"image/png\" -p 3.png {url}:8501/v1/models/lenet5:predict"
      ],
      "execution_count": null,
      "outputs": [
        {
          "output_type": "stream",
          "text": [
            "This is ApacheBench, Version 2.3 <$Revision: 1807734 $>\n",
            "Copyright 1996 Adam Twiss, Zeus Technology Ltd, http://www.zeustech.net/\n",
            "Licensed to The Apache Software Foundation, http://www.apache.org/\n",
            "\n",
            "Benchmarking ec2-15-165-35-168.ap-northeast-2.compute.amazonaws.com (be patient)\n",
            "Completed 100 requests\n",
            "Completed 200 requests\n",
            "Completed 300 requests\n",
            "Completed 400 requests\n",
            "Completed 500 requests\n",
            "Completed 600 requests\n",
            "Completed 700 requests\n",
            "Completed 800 requests\n",
            "Completed 900 requests\n",
            "Completed 1000 requests\n",
            "Finished 1000 requests\n",
            "\n",
            "\n",
            "Server Software:        \n",
            "Server Hostname:        ec2-15-165-35-168.ap-northeast-2.compute.amazonaws.com\n",
            "Server Port:            8501\n",
            "\n",
            "Document Path:          /v1/models/lenet5:predict\n",
            "Document Length:        Variable\n",
            "\n",
            "Concurrency Level:      1000\n",
            "Time taken for tests:   2.743 seconds\n",
            "Complete requests:      1000\n",
            "Failed requests:        0\n",
            "Non-2xx responses:      1000\n",
            "Keep-Alive requests:    1000\n",
            "Total transferred:      168000 bytes\n",
            "Total body sent:        553000\n",
            "HTML transferred:       64000 bytes\n",
            "Requests per second:    364.56 [#/sec] (mean)\n",
            "Time per request:       2743.020 [ms] (mean)\n",
            "Time per request:       2.743 [ms] (mean, across all concurrent requests)\n",
            "Transfer rate:          59.81 [Kbytes/sec] received\n",
            "                        196.88 kb/s sent\n",
            "                        256.69 kb/s total\n",
            "\n",
            "Connection Times (ms)\n",
            "              min  mean[+/-sd] median   max\n",
            "Connect:      187  194   3.0    194     200\n",
            "Processing:   187  881 648.9    833    2531\n",
            "Waiting:      187  881 648.9    833    2531\n",
            "Total:        374 1074 651.0   1028    2730\n",
            "\n",
            "Percentage of the requests served within a certain time (ms)\n",
            "  50%   1028\n",
            "  66%   1579\n",
            "  75%   1582\n",
            "  80%   1584\n",
            "  90%   1588\n",
            "  95%   2721\n",
            "  98%   2724\n",
            "  99%   2725\n",
            " 100%   2730 (longest request)\n"
          ],
          "name": "stdout"
        }
      ]
    },
    {
      "cell_type": "markdown",
      "metadata": {
        "id": "Px5l7XuWMyQ6",
        "colab_type": "text"
      },
      "source": [
        "## pytorch/torchserve"
      ]
    },
    {
      "cell_type": "markdown",
      "metadata": {
        "id": "J0Gm4_0jfxJo",
        "colab_type": "text"
      },
      "source": [
        "### sample request(not completed)"
      ]
    },
    {
      "cell_type": "code",
      "metadata": {
        "id": "Iv54j3uCMyQ6",
        "colab_type": "code",
        "colab": {
          "base_uri": "https://localhost:8080/",
          "height": 68
        },
        "outputId": "003e6ce6-8141-4213-e642-8e35a73343ab"
      },
      "source": [
        "!curl '{url}:8081/ping'"
      ],
      "execution_count": null,
      "outputs": [
        {
          "output_type": "stream",
          "text": [
            "{\n",
            "  \"status\": \"Partial Healthy\"\n",
            "}\n"
          ],
          "name": "stdout"
        }
      ]
    },
    {
      "cell_type": "code",
      "metadata": {
        "id": "mqJMUor0MyQ9",
        "colab_type": "code",
        "colab": {
          "base_uri": "https://localhost:8080/",
          "height": 850
        },
        "outputId": "31da153b-b7ed-4d52-f6ca-610985a47f44"
      },
      "source": [
        "res = requests.get(url+':8082/models/lenet5_libtorch')\n",
        "json.loads(res.text)"
      ],
      "execution_count": null,
      "outputs": [
        {
          "output_type": "execute_result",
          "data": {
            "text/plain": [
              "[{'batchSize': 1,\n",
              "  'loadedAtStartup': True,\n",
              "  'maxBatchDelay': 100,\n",
              "  'maxWorkers': 8,\n",
              "  'minWorkers': 8,\n",
              "  'modelName': 'lenet5_libtorch',\n",
              "  'modelUrl': 'lenet5_libtorch.mar',\n",
              "  'modelVersion': '1.0',\n",
              "  'runtime': 'python',\n",
              "  'workers': [{'gpu': False,\n",
              "    'id': '9008',\n",
              "    'memoryUsage': 17707008,\n",
              "    'startTime': '2020-09-10T10:18:45.941Z',\n",
              "    'status': 'READY'},\n",
              "   {'gpu': False,\n",
              "    'id': '9009',\n",
              "    'memoryUsage': 17739776,\n",
              "    'startTime': '2020-09-10T10:18:46.019Z',\n",
              "    'status': 'READY'},\n",
              "   {'gpu': False,\n",
              "    'id': '9010',\n",
              "    'memoryUsage': 17793024,\n",
              "    'startTime': '2020-09-10T10:18:46.027Z',\n",
              "    'status': 'READY'},\n",
              "   {'gpu': False,\n",
              "    'id': '9011',\n",
              "    'memoryUsage': 20819968,\n",
              "    'startTime': '2020-09-10T10:18:46.027Z',\n",
              "    'status': 'READY'},\n",
              "   {'gpu': False,\n",
              "    'id': '9012',\n",
              "    'memoryUsage': 17739776,\n",
              "    'startTime': '2020-09-10T10:18:46.032Z',\n",
              "    'status': 'READY'},\n",
              "   {'gpu': False,\n",
              "    'id': '9013',\n",
              "    'memoryUsage': 21176320,\n",
              "    'startTime': '2020-09-10T10:18:46.033Z',\n",
              "    'status': 'READY'},\n",
              "   {'gpu': False,\n",
              "    'id': '9014',\n",
              "    'memoryUsage': 17698816,\n",
              "    'startTime': '2020-09-10T10:18:46.033Z',\n",
              "    'status': 'READY'},\n",
              "   {'gpu': False,\n",
              "    'id': '9015',\n",
              "    'memoryUsage': 17723392,\n",
              "    'startTime': '2020-09-10T10:18:46.047Z',\n",
              "    'status': 'READY'}]}]"
            ]
          },
          "metadata": {
            "tags": []
          },
          "execution_count": 99
        }
      ]
    },
    {
      "cell_type": "code",
      "metadata": {
        "scrolled": true,
        "id": "TGbMIHedMyQ_",
        "colab_type": "code",
        "colab": {
          "base_uri": "https://localhost:8080/",
          "height": 850
        },
        "outputId": "f1cfcb5f-0437-4e91-b14e-d9dc370c4a10"
      },
      "source": [
        "res = requests.get(url+':8082/models/lenet5_pytorch')\n",
        "json.loads(res.text)"
      ],
      "execution_count": null,
      "outputs": [
        {
          "output_type": "execute_result",
          "data": {
            "text/plain": [
              "[{'batchSize': 1,\n",
              "  'loadedAtStartup': True,\n",
              "  'maxBatchDelay': 100,\n",
              "  'maxWorkers': 8,\n",
              "  'minWorkers': 8,\n",
              "  'modelName': 'lenet5_pytorch',\n",
              "  'modelUrl': 'lenet5_pytorch.mar',\n",
              "  'modelVersion': '1.0',\n",
              "  'runtime': 'python',\n",
              "  'workers': [{'gpu': False,\n",
              "    'id': '9000',\n",
              "    'memoryUsage': 17702912,\n",
              "    'startTime': '2020-09-10T10:18:45.923Z',\n",
              "    'status': 'READY'},\n",
              "   {'gpu': False,\n",
              "    'id': '9001',\n",
              "    'memoryUsage': 17858560,\n",
              "    'startTime': '2020-09-10T10:18:45.925Z',\n",
              "    'status': 'READY'},\n",
              "   {'gpu': False,\n",
              "    'id': '9002',\n",
              "    'memoryUsage': 17735680,\n",
              "    'startTime': '2020-09-10T10:18:45.925Z',\n",
              "    'status': 'READY'},\n",
              "   {'gpu': False,\n",
              "    'id': '9003',\n",
              "    'memoryUsage': 17723392,\n",
              "    'startTime': '2020-09-10T10:18:45.925Z',\n",
              "    'status': 'READY'},\n",
              "   {'gpu': False,\n",
              "    'id': '9004',\n",
              "    'memoryUsage': 20602880,\n",
              "    'startTime': '2020-09-10T10:18:45.925Z',\n",
              "    'status': 'READY'},\n",
              "   {'gpu': False,\n",
              "    'id': '9005',\n",
              "    'memoryUsage': 17715200,\n",
              "    'startTime': '2020-09-10T10:18:45.926Z',\n",
              "    'status': 'READY'},\n",
              "   {'gpu': False,\n",
              "    'id': '9006',\n",
              "    'memoryUsage': 17735680,\n",
              "    'startTime': '2020-09-10T10:18:45.926Z',\n",
              "    'status': 'READY'},\n",
              "   {'gpu': False,\n",
              "    'id': '9007',\n",
              "    'memoryUsage': 17842176,\n",
              "    'startTime': '2020-09-10T10:18:45.926Z',\n",
              "    'status': 'READY'}]}]"
            ]
          },
          "metadata": {
            "tags": []
          },
          "execution_count": 98
        }
      ]
    },
    {
      "cell_type": "code",
      "metadata": {
        "id": "VwUM7SjlMyRI",
        "colab_type": "code",
        "colab": {
          "base_uri": "https://localhost:8080/",
          "height": 102
        },
        "outputId": "5f238f94-8547-40c5-d38d-ef361ad17560"
      },
      "source": [
        "!curl -X POST {url}:8081/predictions/lenet5_libtorch -T 3.png"
      ],
      "execution_count": null,
      "outputs": [
        {
          "output_type": "stream",
          "text": [
            "{\n",
            "  \"code\": 503,\n",
            "  \"type\": \"InternalServerException\",\n",
            "  \"message\": \"Prediction failed\"\n",
            "}\n"
          ],
          "name": "stdout"
        }
      ]
    },
    {
      "cell_type": "code",
      "metadata": {
        "id": "23zS7hsCiWAF",
        "colab_type": "code",
        "colab": {
          "base_uri": "https://localhost:8080/",
          "height": 34
        },
        "outputId": "bfa44396-88a9-4566-c97d-d80dafd1c1df"
      },
      "source": [
        "!curl -X POST {url}:8081/predictions/lenet5_pytorch -T 3.png"
      ],
      "execution_count": null,
      "outputs": [
        {
          "output_type": "stream",
          "text": [
            "^C\n"
          ],
          "name": "stdout"
        }
      ]
    },
    {
      "cell_type": "code",
      "metadata": {
        "id": "MHPihQrhMyRK",
        "colab_type": "code",
        "colab": {},
        "outputId": "4fd7c713-6206-4d0d-ad47-330a70755e16"
      },
      "source": [
        "!curl -X POST http://localhost:8081/predictions/lenet5 -F \"data=@test.png\""
      ],
      "execution_count": null,
      "outputs": [
        {
          "output_type": "stream",
          "text": [
            "{\r\n",
            "  \"code\": 503,\r\n",
            "  \"type\": \"InternalServerException\",\r\n",
            "  \"message\": \"Prediction failed\"\r\n",
            "}\r\n"
          ],
          "name": "stdout"
        }
      ]
    },
    {
      "cell_type": "markdown",
      "metadata": {
        "id": "ZNsp1W-bf0c0",
        "colab_type": "text"
      },
      "source": [
        "### benchmark(not completed)"
      ]
    },
    {
      "cell_type": "code",
      "metadata": {
        "id": "ioDwgQLpf2nd",
        "colab_type": "code",
        "colab": {}
      },
      "source": [
        "!ab -k -l -n 1000 -c 1000 -T \"image/png\" -p 3.png {url}:8081/predictions/lenet5_libtorch"
      ],
      "execution_count": null,
      "outputs": []
    }
  ]
}