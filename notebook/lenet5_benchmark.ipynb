{
 "cells": [
  {
   "cell_type": "code",
   "execution_count": 84,
   "metadata": {},
   "outputs": [
    {
     "name": "stdout",
     "output_type": "stream",
     "text": [
      "[sudo] password for anthony: \n",
      "[sudo] password for anthony: "
     ]
    }
   ],
   "source": [
    "# !sudo apt-get udpate && sudo apt-get install apache2-utils"
   ]
  },
  {
   "cell_type": "code",
   "execution_count": 19,
   "metadata": {},
   "outputs": [],
   "source": [
    "import requests\n",
    "import matplotlib.pyplot as plt\n",
    "from pprint import PrettyPrinter\n",
    "import json\n",
    "import numpy as np\n",
    "from PIL import Image\n",
    "pp = PrettyPrinter()"
   ]
  },
  {
   "cell_type": "code",
   "execution_count": 2,
   "metadata": {},
   "outputs": [],
   "source": [
    "from tensorflow.keras.datasets.mnist import load_data"
   ]
  },
  {
   "cell_type": "code",
   "execution_count": 3,
   "metadata": {},
   "outputs": [],
   "source": [
    "(train_x, train_y), (test_x, test_y) = load_data()"
   ]
  },
  {
   "cell_type": "code",
   "execution_count": 85,
   "metadata": {},
   "outputs": [],
   "source": [
    "tmp = train_x[:1]"
   ]
  },
  {
   "cell_type": "code",
   "execution_count": 86,
   "metadata": {},
   "outputs": [
    {
     "data": {
      "text/plain": [
       "(1, 28, 28, 1)"
      ]
     },
     "execution_count": 86,
     "metadata": {},
     "output_type": "execute_result"
    }
   ],
   "source": [
    "# tmp = np.expand_dims(tmp, axis=0)\n",
    "tmp = np.expand_dims(tmp, axis=-1)\n",
    "tmp.shape"
   ]
  },
  {
   "cell_type": "markdown",
   "metadata": {},
   "source": [
    "### tensorflow/serving"
   ]
  },
  {
   "cell_type": "code",
   "execution_count": 52,
   "metadata": {},
   "outputs": [],
   "source": [
    "data = json.dumps({\"signature_name\": \"serving_default\", \"instances\": tmp.tolist()})"
   ]
  },
  {
   "cell_type": "code",
   "execution_count": 68,
   "metadata": {},
   "outputs": [],
   "source": [
    "res = json.loads(requests.post('http://localhost:8501/v1/models/lenet5:predict', data=data).text)"
   ]
  },
  {
   "cell_type": "code",
   "execution_count": 69,
   "metadata": {},
   "outputs": [],
   "source": [
    "predictions = res['predictions']"
   ]
  },
  {
   "cell_type": "code",
   "execution_count": 73,
   "metadata": {},
   "outputs": [
    {
     "data": {
      "text/plain": [
       "<matplotlib.image.AxesImage at 0x7fda2b3f96a0>"
      ]
     },
     "execution_count": 73,
     "metadata": {},
     "output_type": "execute_result"
    },
    {
     "data": {
      "image/png": "[encoded data removed]",
      "text/plain": [
       "<Figure size 432x288 with 1 Axes>"
      ]
     },
     "metadata": {
      "needs_background": "light"
     },
     "output_type": "display_data"
    }
   ],
   "source": [
    "plt.imshow(tmp[0])"
   ]
  },
  {
   "cell_type": "code",
   "execution_count": 75,
   "metadata": {},
   "outputs": [
    {
     "data": {
      "text/plain": [
       "5"
      ]
     },
     "execution_count": 75,
     "metadata": {},
     "output_type": "execute_result"
    }
   ],
   "source": [
    "np.argmax(predictions[0])"
   ]
  },
  {
   "cell_type": "code",
   "execution_count": 74,
   "metadata": {},
   "outputs": [
    {
     "data": {
      "text/plain": [
       "<matplotlib.image.AxesImage at 0x7fda2b3b17f0>"
      ]
     },
     "execution_count": 74,
     "metadata": {},
     "output_type": "execute_result"
    },
    {
     "data": {
      "image/png": "[encoded data removed]",
      "text/plain": [
       "<Figure size 432x288 with 1 Axes>"
      ]
     },
     "metadata": {
      "needs_background": "light"
     },
     "output_type": "display_data"
    }
   ],
   "source": [
    "plt.imshow(tmp[1])"
   ]
  },
  {
   "cell_type": "code",
   "execution_count": 76,
   "metadata": {},
   "outputs": [
    {
     "data": {
      "text/plain": [
       "0"
      ]
     },
     "execution_count": 76,
     "metadata": {},
     "output_type": "execute_result"
    }
   ],
   "source": [
    "np.argmax(predictions[1])"
   ]
  },
  {
   "cell_type": "code",
   "execution_count": 77,
   "metadata": {},
   "outputs": [
    {
     "data": {
      "text/plain": [
       "<matplotlib.image.AxesImage at 0x7fda2b2e7d30>"
      ]
     },
     "execution_count": 77,
     "metadata": {},
     "output_type": "execute_result"
    },
    {
     "data": {
      "image/png": "[encoded data removed]",
      "text/plain": [
       "<Figure size 432x288 with 1 Axes>"
      ]
     },
     "metadata": {
      "needs_background": "light"
     },
     "output_type": "display_data"
    }
   ],
   "source": [
    "plt.imshow(tmp[2])"
   ]
  },
  {
   "cell_type": "code",
   "execution_count": 78,
   "metadata": {},
   "outputs": [
    {
     "data": {
      "text/plain": [
       "4"
      ]
     },
     "execution_count": 78,
     "metadata": {},
     "output_type": "execute_result"
    }
   ],
   "source": [
    "np.argmax(predictions[2])"
   ]
  },
  {
   "cell_type": "markdown",
   "metadata": {},
   "source": [
    "### pytorch/torchserve"
   ]
  },
  {
   "cell_type": "code",
   "execution_count": 93,
   "metadata": {},
   "outputs": [],
   "source": [
    "res = requests.get('http://localhost:8081/models/lenet5')"
   ]
  },
  {
   "cell_type": "code",
   "execution_count": 94,
   "metadata": {
    "scrolled": true
   },
   "outputs": [
    {
     "data": {
      "text/plain": [
       "[{'modelName': 'lenet5',\n",
       "  'modelVersion': '1.0',\n",
       "  'modelUrl': 'lenet5.mar',\n",
       "  'runtime': 'python',\n",
       "  'minWorkers': 8,\n",
       "  'maxWorkers': 8,\n",
       "  'batchSize': 1,\n",
       "  'maxBatchDelay': 100,\n",
       "  'loadedAtStartup': True,\n",
       "  'workers': [{'id': '9000',\n",
       "    'startTime': '2020-09-04T11:48:24.858Z',\n",
       "    'status': 'READY',\n",
       "    'gpu': False,\n",
       "    'memoryUsage': 34504704},\n",
       "   {'id': '9001',\n",
       "    'startTime': '2020-09-04T11:48:24.860Z',\n",
       "    'status': 'READY',\n",
       "    'gpu': False,\n",
       "    'memoryUsage': 34418688},\n",
       "   {'id': '9002',\n",
       "    'startTime': '2020-09-04T11:48:24.861Z',\n",
       "    'status': 'READY',\n",
       "    'gpu': False,\n",
       "    'memoryUsage': 20828160},\n",
       "   {'id': '9003',\n",
       "    'startTime': '2020-09-04T11:48:24.861Z',\n",
       "    'status': 'READY',\n",
       "    'gpu': False,\n",
       "    'memoryUsage': 35876864},\n",
       "   {'id': '9004',\n",
       "    'startTime': '2020-09-04T11:48:24.862Z',\n",
       "    'status': 'READY',\n",
       "    'gpu': False,\n",
       "    'memoryUsage': 35815424},\n",
       "   {'id': '9005',\n",
       "    'startTime': '2020-09-04T11:48:24.862Z',\n",
       "    'status': 'READY',\n",
       "    'gpu': False,\n",
       "    'memoryUsage': 34717696},\n",
       "   {'id': '9006',\n",
       "    'startTime': '2020-09-04T11:48:24.863Z',\n",
       "    'status': 'READY',\n",
       "    'gpu': False,\n",
       "    'memoryUsage': 34627584},\n",
       "   {'id': '9007',\n",
       "    'startTime': '2020-09-04T11:48:24.863Z',\n",
       "    'status': 'READY',\n",
       "    'gpu': False,\n",
       "    'memoryUsage': 34504704}]}]"
      ]
     },
     "execution_count": 94,
     "metadata": {},
     "output_type": "execute_result"
    }
   ],
   "source": [
    "json.loads(res.text)"
   ]
  },
  {
   "cell_type": "code",
   "execution_count": 88,
   "metadata": {},
   "outputs": [
    {
     "data": {
      "text/plain": [
       "(1, 28, 28, 1)"
      ]
     },
     "execution_count": 88,
     "metadata": {},
     "output_type": "execute_result"
    }
   ],
   "source": [
    "tmp.shape"
   ]
  },
  {
   "cell_type": "code",
   "execution_count": 89,
   "metadata": {},
   "outputs": [],
   "source": [
    "data = json.dumps(tmp.tolist())"
   ]
  },
  {
   "cell_type": "code",
   "execution_count": 100,
   "metadata": {},
   "outputs": [
    {
     "data": {
      "text/plain": [
       "'{\\n  \"code\": 503,\\n  \"type\": \"InternalServerException\",\\n  \"message\": \"Prediction failed\"\\n}\\n'"
      ]
     },
     "execution_count": 100,
     "metadata": {},
     "output_type": "execute_result"
    }
   ],
   "source": [
    "requests.post('http://localhost:8080/predictions/lenet5', files={'media': 'test_data/0.png'}).text"
   ]
  },
  {
   "cell_type": "code",
   "execution_count": 120,
   "metadata": {},
   "outputs": [
    {
     "name": "stdout",
     "output_type": "stream",
     "text": [
      "{\r\n",
      "  \"code\": 503,\r\n",
      "  \"type\": \"InternalServerException\",\r\n",
      "  \"message\": \"Prediction failed\"\r\n",
      "}\r\n"
     ]
    }
   ],
   "source": [
    "!curl -X POST http://localhost:8080/predictions/lenet5 -T test_data/0.png"
   ]
  },
  {
   "cell_type": "code",
   "execution_count": null,
   "metadata": {},
   "outputs": [],
   "source": []
  }
 ],
 "metadata": {
  "kernelspec": {
   "display_name": "Python 3",
   "language": "python",
   "name": "python3"
  },
  "language_info": {
   "codemirror_mode": {
    "name": "ipython",
    "version": 3
   },
   "file_extension": ".py",
   "mimetype": "text/x-python",
   "name": "python",
   "nbconvert_exporter": "python",
   "pygments_lexer": "ipython3",
   "version": "3.6.8"
  }
 },
 "nbformat": 4,
 "nbformat_minor": 4
}
